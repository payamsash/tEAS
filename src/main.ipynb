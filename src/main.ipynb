{
 "cells": [
  {
   "cell_type": "code",
   "execution_count": null,
   "metadata": {},
   "outputs": [],
   "source": [
    "%matplotlib qt\n",
    "from comparison import *\n",
    "import pickle"
   ]
  },
  {
   "cell_type": "code",
   "execution_count": null,
   "metadata": {},
   "outputs": [],
   "source": [
    "with open(Path.cwd().parent / \"data\" / \"mmns.pkl\", 'rb') as f:\n",
    "    mmns_dict = pickle.load(f)\n",
    "with open(Path.cwd().parent / \"data\" / \"evs.pkl\", 'rb') as f:\n",
    "    evs_dict = pickle.load(f)\n",
    "with open(Path.cwd().parent / \"data\" / \"tfrs.pkl\", 'rb') as f:\n",
    "    tfrs_dict = pickle.load(f)"
   ]
  },
  {
   "cell_type": "code",
   "execution_count": null,
   "metadata": {},
   "outputs": [],
   "source": [
    "compare_pre_post_one_factor(data=evs_dict, type=\"ev\", cond=\"B\", stim=\"S11\", pick=\"Cz\")"
   ]
  },
  {
   "cell_type": "code",
   "execution_count": null,
   "metadata": {},
   "outputs": [],
   "source": [
    "compare_pre_post_two_factors(data=mmns_dict, type=\"mmn\", conds=[\"B\", \"D\"], stims=[\"S11\"], pick=\"Fz\")"
   ]
  },
  {
   "cell_type": "code",
   "execution_count": null,
   "metadata": {},
   "outputs": [],
   "source": [
    "spatiotemporal_perm_f_test(data=mmns_dict, type=\"2_factor\", conds=\"B\", stim=\"S11\", p_accept=0.05)"
   ]
  },
  {
   "cell_type": "code",
   "execution_count": null,
   "metadata": {},
   "outputs": [],
   "source": [
    "compare_pre_post_one_factor_tfr(data=tfrs_dict, cond=\"C\", stim=\"S11\")"
   ]
  }
 ],
 "metadata": {
  "kernelspec": {
   "display_name": "Python 3",
   "language": "python",
   "name": "python3"
  },
  "language_info": {
   "codemirror_mode": {
    "name": "ipython",
    "version": 3
   },
   "file_extension": ".py",
   "mimetype": "text/x-python",
   "name": "python",
   "nbconvert_exporter": "python",
   "pygments_lexer": "ipython3",
   "version": "3.1.undefined"
  }
 },
 "nbformat": 4,
 "nbformat_minor": 2
}
